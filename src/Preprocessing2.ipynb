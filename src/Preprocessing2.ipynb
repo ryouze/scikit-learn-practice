{
 "cells": [
  {
   "cell_type": "markdown",
   "id": "59cfcbbf",
   "metadata": {},
   "source": [
    "# Preprocessing 2: Handling Categorical Features\n",
    "This notebook shows how to preprocess categorical data for machine learning. You will learn about encoding techniques to convert categorical variables into numeric format, enabling their use in scikit-learn models."
   ]
  },
  {
   "cell_type": "code",
   "execution_count": null,
   "id": "725b1486",
   "metadata": {},
   "outputs": [
    {
     "data": {
      "text/plain": [
       "array([['low'],\n",
       "       ['low'],\n",
       "       ['high'],\n",
       "       ['medium']], dtype='<U6')"
      ]
     },
     "execution_count": 27,
     "metadata": {},
     "output_type": "execute_result"
    }
   ],
   "source": [
    "# Import numpy for handling arrays\n",
    "import numpy as np\n",
    "\n",
    "# Create a sample array of categorical values (e.g., 'low', 'medium', 'high')\n",
    "arr = np.array([\"low\", \"low\", \"high\", \"medium\"]).reshape(-1, 1)\n",
    "arr\n"
   ]
  },
  {
   "cell_type": "markdown",
   "id": "0aed7576",
   "metadata": {},
   "source": [
    "A common technique for converting categorical data into a numeric format is one-hot encoding. The `OneHotEncoder` from scikit-learn transforms categorical values into a binary matrix, where each category is represented by a separate column. This allows machine learning algorithms to interpret categorical variables numerically."
   ]
  },
  {
   "cell_type": "code",
   "execution_count": null,
   "id": "40ef766f",
   "metadata": {},
   "outputs": [],
   "source": [
    "# Import OneHotEncoder to convert categorical values into numeric format\n",
    "from sklearn.preprocessing import OneHotEncoder\n"
   ]
  },
  {
   "cell_type": "markdown",
   "id": "5f03428d",
   "metadata": {},
   "source": [
    "By default, `OneHotEncoder` returns a sparse matrix, which is an efficient way to store large binary matrices with many zeros. If you want to view the full encoded array, you can set the `sparse` parameter to `False`."
   ]
  },
  {
   "cell_type": "code",
   "execution_count": null,
   "id": "3f4235db",
   "metadata": {},
   "outputs": [
    {
     "data": {
      "text/plain": [
       "<4x3 sparse matrix of type '<class 'numpy.float64'>'\n",
       "\twith 4 stored elements in Compressed Sparse Row format>"
      ]
     },
     "execution_count": 29,
     "metadata": {},
     "output_type": "execute_result"
    }
   ],
   "source": [
    "# Create a OneHotEncoder object and fit-transform the array to encode categories\n",
    "enc = OneHotEncoder()\n",
    "enc.fit_transform(arr)\n"
   ]
  },
  {
   "cell_type": "markdown",
   "id": "bd89749f",
   "metadata": {},
   "source": [
    "To make the encoded output easier to inspect, set `sparse=False` when creating the encoder. This will return a regular NumPy array instead of a sparse matrix, allowing you to see the actual encoded values."
   ]
  },
  {
   "cell_type": "code",
   "execution_count": null,
   "id": "2dffc0ac",
   "metadata": {},
   "outputs": [
    {
     "data": {
      "text/plain": [
       "array([[0., 1., 0.],\n",
       "       [0., 1., 0.],\n",
       "       [1., 0., 0.],\n",
       "       [0., 0., 1.]])"
      ]
     },
     "execution_count": 30,
     "metadata": {},
     "output_type": "execute_result"
    }
   ],
   "source": [
    "# Set sparse=False to get a regular NumPy array instead of a sparse matrix\n",
    "enc = OneHotEncoder(sparse=False)\n",
    "enc.fit_transform(arr)\n"
   ]
  },
  {
   "cell_type": "markdown",
   "id": "92a4da60",
   "metadata": {},
   "source": [
    "In the output, each row corresponds to a sample, and each column represents a category. For example, the first two rows are encoded as 'low', sharing the same column, while 'high' and 'medium' are each represented in their respective columns. This numeric representation is especially useful when the categorical variable is the target label (`y`) for a machine learning model, as scikit-learn requires numeric input.\n",
    "\n",
    "However, there are some important behaviors to consider. If you attempt to transform a category that was not present during fitting, the encoder will raise an error by default. This is relevant when encoding features for prediction, as new categories may appear in future data."
   ]
  },
  {
   "cell_type": "code",
   "execution_count": 31,
   "id": "461a1405",
   "metadata": {},
   "outputs": [],
   "source": [
    "# enc.transform([[\"zero\"]])\n"
   ]
  },
  {
   "cell_type": "markdown",
   "id": "94c78cfb",
   "metadata": {},
   "source": [
    "If you try to transform a category that the encoder has not seen during fitting, a `ValueError` will be raised, indicating that an unknown category was found. This default behavior prevents accidental introduction of unseen categories during model training or prediction.\n",
    "\n",
    "To handle unknown categories gracefully, you can set the `handle_unknown` parameter to `'ignore'`. This will encode any unknown category as a row of zeros, indicating that it does not match any of the known categories."
   ]
  },
  {
   "cell_type": "code",
   "execution_count": null,
   "id": "a64cd76f",
   "metadata": {},
   "outputs": [
    {
     "data": {
      "text/plain": [
       "array([[0., 0., 0.]])"
      ]
     },
     "execution_count": 32,
     "metadata": {},
     "output_type": "execute_result"
    }
   ],
   "source": [
    "# Set handle_unknown='ignore' to handle new categories gracefully\n",
    "enc = OneHotEncoder(sparse=False, handle_unknown=\"ignore\")\n",
    "enc.fit_transform(arr)\n",
    "\n",
    "# Transforming an unknown category returns a row of zeros\n",
    "enc.transform([[\"zero\"]])\n"
   ]
  },
  {
   "cell_type": "markdown",
   "id": "16af3206",
   "metadata": {},
   "source": [
    "When `handle_unknown=\"ignore\"` is set, transforming an unknown category returns a row of zeros, indicating that the value does not correspond to any known category. This setting is useful when encoding feature columns (`X`), where new categories may appear in future data. However, for target labels (`y`), it is generally best to avoid this setting to maintain strict control over the classes.\n",
    "\n",
    "To further explore preprocessing techniques, you can use the website [drawdata.xyz](https://drawdata.xyz) to create and download custom datasets. You can then load these datasets into your notebook using `pandas.read_clipboard(sep=\",\")` after copying the CSV data, making it easy to experiment with different preprocessing steps in scikit-learn."
   ]
  }
 ],
 "metadata": {
  "kernelspec": {
   "display_name": "env",
   "language": "python",
   "name": "python3"
  },
  "language_info": {
   "codemirror_mode": {
    "name": "ipython",
    "version": 3
   },
   "file_extension": ".py",
   "mimetype": "text/x-python",
   "name": "python",
   "nbconvert_exporter": "python",
   "pygments_lexer": "ipython3",
   "version": "3.8.10"
  }
 },
 "nbformat": 4,
 "nbformat_minor": 5
}
