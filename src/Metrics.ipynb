{
 "cells": [
  {
   "cell_type": "markdown",
   "id": "8b98b3f0",
   "metadata": {},
   "source": [
    "# Metrics: Evaluating Model Performance\n",
    "This notebook covers how to select and evaluate machine learning models using metrics in scikit-learn. Using a real-world credit card fraud detection dataset, you will learn how to compare models and use GridSearchCV for systematic evaluation."
   ]
  },
  {
   "cell_type": "code",
   "execution_count": 1,
   "id": "25115a4f",
   "metadata": {},
   "outputs": [
    {
     "data": {
      "text/html": [
       "<div>\n",
       "<style scoped>\n",
       "    .dataframe tbody tr th:only-of-type {\n",
       "        vertical-align: middle;\n",
       "    }\n",
       "\n",
       "    .dataframe tbody tr th {\n",
       "        vertical-align: top;\n",
       "    }\n",
       "\n",
       "    .dataframe thead th {\n",
       "        text-align: right;\n",
       "    }\n",
       "</style>\n",
       "<table border=\"1\" class=\"dataframe\">\n",
       "  <thead>\n",
       "    <tr style=\"text-align: right;\">\n",
       "      <th></th>\n",
       "      <th>Time</th>\n",
       "      <th>V1</th>\n",
       "      <th>V2</th>\n",
       "      <th>V3</th>\n",
       "      <th>V4</th>\n",
       "      <th>V5</th>\n",
       "      <th>V6</th>\n",
       "      <th>V7</th>\n",
       "      <th>V8</th>\n",
       "      <th>V9</th>\n",
       "      <th>...</th>\n",
       "      <th>V21</th>\n",
       "      <th>V22</th>\n",
       "      <th>V23</th>\n",
       "      <th>V24</th>\n",
       "      <th>V25</th>\n",
       "      <th>V26</th>\n",
       "      <th>V27</th>\n",
       "      <th>V28</th>\n",
       "      <th>Amount</th>\n",
       "      <th>Class</th>\n",
       "    </tr>\n",
       "  </thead>\n",
       "  <tbody>\n",
       "    <tr>\n",
       "      <th>0</th>\n",
       "      <td>0.0</td>\n",
       "      <td>-1.359807</td>\n",
       "      <td>-0.072781</td>\n",
       "      <td>2.536347</td>\n",
       "      <td>1.378155</td>\n",
       "      <td>-0.338321</td>\n",
       "      <td>0.462388</td>\n",
       "      <td>0.239599</td>\n",
       "      <td>0.098698</td>\n",
       "      <td>0.363787</td>\n",
       "      <td>...</td>\n",
       "      <td>-0.018307</td>\n",
       "      <td>0.277838</td>\n",
       "      <td>-0.110474</td>\n",
       "      <td>0.066928</td>\n",
       "      <td>0.128539</td>\n",
       "      <td>-0.189115</td>\n",
       "      <td>0.133558</td>\n",
       "      <td>-0.021053</td>\n",
       "      <td>149.62</td>\n",
       "      <td>0</td>\n",
       "    </tr>\n",
       "    <tr>\n",
       "      <th>1</th>\n",
       "      <td>0.0</td>\n",
       "      <td>1.191857</td>\n",
       "      <td>0.266151</td>\n",
       "      <td>0.166480</td>\n",
       "      <td>0.448154</td>\n",
       "      <td>0.060018</td>\n",
       "      <td>-0.082361</td>\n",
       "      <td>-0.078803</td>\n",
       "      <td>0.085102</td>\n",
       "      <td>-0.255425</td>\n",
       "      <td>...</td>\n",
       "      <td>-0.225775</td>\n",
       "      <td>-0.638672</td>\n",
       "      <td>0.101288</td>\n",
       "      <td>-0.339846</td>\n",
       "      <td>0.167170</td>\n",
       "      <td>0.125895</td>\n",
       "      <td>-0.008983</td>\n",
       "      <td>0.014724</td>\n",
       "      <td>2.69</td>\n",
       "      <td>0</td>\n",
       "    </tr>\n",
       "    <tr>\n",
       "      <th>2</th>\n",
       "      <td>1.0</td>\n",
       "      <td>-1.358354</td>\n",
       "      <td>-1.340163</td>\n",
       "      <td>1.773209</td>\n",
       "      <td>0.379780</td>\n",
       "      <td>-0.503198</td>\n",
       "      <td>1.800499</td>\n",
       "      <td>0.791461</td>\n",
       "      <td>0.247676</td>\n",
       "      <td>-1.514654</td>\n",
       "      <td>...</td>\n",
       "      <td>0.247998</td>\n",
       "      <td>0.771679</td>\n",
       "      <td>0.909412</td>\n",
       "      <td>-0.689281</td>\n",
       "      <td>-0.327642</td>\n",
       "      <td>-0.139097</td>\n",
       "      <td>-0.055353</td>\n",
       "      <td>-0.059752</td>\n",
       "      <td>378.66</td>\n",
       "      <td>0</td>\n",
       "    </tr>\n",
       "  </tbody>\n",
       "</table>\n",
       "<p>3 rows × 31 columns</p>\n",
       "</div>"
      ],
      "text/plain": [
       "   Time        V1        V2        V3        V4        V5        V6        V7  \\\n",
       "0   0.0 -1.359807 -0.072781  2.536347  1.378155 -0.338321  0.462388  0.239599   \n",
       "1   0.0  1.191857  0.266151  0.166480  0.448154  0.060018 -0.082361 -0.078803   \n",
       "2   1.0 -1.358354 -1.340163  1.773209  0.379780 -0.503198  1.800499  0.791461   \n",
       "\n",
       "         V8        V9  ...       V21       V22       V23       V24       V25  \\\n",
       "0  0.098698  0.363787  ... -0.018307  0.277838 -0.110474  0.066928  0.128539   \n",
       "1  0.085102 -0.255425  ... -0.225775 -0.638672  0.101288 -0.339846  0.167170   \n",
       "2  0.247676 -1.514654  ...  0.247998  0.771679  0.909412 -0.689281 -0.327642   \n",
       "\n",
       "        V26       V27       V28  Amount  Class  \n",
       "0 -0.189115  0.133558 -0.021053  149.62      0  \n",
       "1  0.125895 -0.008983  0.014724    2.69      0  \n",
       "2 -0.139097 -0.055353 -0.059752  378.66      0  \n",
       "\n",
       "[3 rows x 31 columns]"
      ]
     },
     "execution_count": 1,
     "metadata": {},
     "output_type": "execute_result"
    }
   ],
   "source": [
    "# Import libraries for data handling, numerical operations, and plotting\n",
    "import numpy as np\n",
    "import pandas as pd\n",
    "import matplotlib.pylab as plt\n",
    "\n",
    "# The dataset is large, so we only read the first 80,000 rows for faster processing\n",
    "df = pd.read_csv(\"creditcard.csv\")[:80_000]\n",
    "df.head(3)\n"
   ]
  },
  {
   "cell_type": "markdown",
   "id": "1cc911eb",
   "metadata": {},
   "source": [
    "The dataset contains many columns, most of which are anonymized for privacy. At the end of the DataFrame, you'll find the `Class` column (our prediction target, indicating fraud or not) and the `Amount` column (the transaction amount).\n",
    "\n",
    "The anonymized features are labeled `V1` through `V28`, each representing characteristics of a transaction. Our goal is to use these features to predict whether a transaction is fraudulent.\n",
    "\n",
    "To use this data with scikit-learn, we need to separate the features (input variables) from the target (output label). We'll convert the relevant columns to NumPy arrays for compatibility with scikit-learn's API."
   ]
  },
  {
   "cell_type": "code",
   "execution_count": null,
   "id": "fa3bd13f",
   "metadata": {},
   "outputs": [],
   "source": [
    "# X contains all columns with a 'V' in the name (features), y is the column we want to predict (fraud or not)\n",
    "X = df.drop(columns=[\"Time\", \"Amount\", \"Class\"]).values\n",
    "y = df[\"Class\"].values\n"
   ]
  },
  {
   "cell_type": "markdown",
   "id": "071a2a12",
   "metadata": {},
   "source": [
    "To better understand the dataset, let's print the shape of our feature and label arrays, as well as the number of fraud cases. This helps us see how many samples we have and highlights the class imbalance—a common challenge in fraud detection."
   ]
  },
  {
   "cell_type": "code",
   "execution_count": 3,
   "id": "dcce5d43",
   "metadata": {},
   "outputs": [
    {
     "data": {
      "text/plain": [
       "'Shapes of X=(80000, 28) y=(80000,), #Fraud Cases=196'"
      ]
     },
     "execution_count": 3,
     "metadata": {},
     "output_type": "execute_result"
    }
   ],
   "source": [
    "# Print the shapes of X and y, and the number of fraud cases in the dataset\n",
    "f\"Shapes of X={X.shape} y={y.shape}, #Fraud Cases={y.sum()}\"\n"
   ]
  },
  {
   "cell_type": "markdown",
   "id": "2c32366a",
   "metadata": {},
   "source": [
    "Notice that the number of fraud cases is very small compared to the total number of transactions—only about 200 out of 80,000. This means the dataset is highly *imbalanced*, with far more non-fraud cases than fraud cases.\n",
    "\n",
    "Class imbalance is important to consider because many models can achieve high accuracy simply by predicting the majority class (non-fraud). However, our goal is to detect as many fraud cases as possible.\n",
    "\n",
    "Let's start by training a simple logistic regression model to see how it performs on this imbalanced data."
   ]
  },
  {
   "cell_type": "code",
   "execution_count": null,
   "id": "a4ba5479",
   "metadata": {},
   "outputs": [],
   "source": [
    "# Import LogisticRegression for classification\n",
    "from sklearn.linear_model import LogisticRegression\n",
    "\n",
    "# mod = LogisticRegression()\n",
    "# mod.fit(X, y).predict(X)\n"
   ]
  },
  {
   "cell_type": "markdown",
   "id": "bf15b697",
   "metadata": {},
   "source": [
    "When fitting the logistic regression model, you may encounter a warning that the maximum number of iterations has been reached. This often happens with imbalanced datasets, as the model struggles to converge within the default number of iterations.\n",
    "\n",
    "To address this, we increase the `max_iter` parameter. After fitting the model, we can check how many fraud cases the model predicts. This gives us an initial sense of model performance, even before using more formal metrics."
   ]
  },
  {
   "cell_type": "code",
   "execution_count": 5,
   "id": "88b4d1d2",
   "metadata": {},
   "outputs": [
    {
     "data": {
      "text/plain": [
       "151"
      ]
     },
     "execution_count": 5,
     "metadata": {},
     "output_type": "execute_result"
    }
   ],
   "source": [
    "# Increase max_iter to help the model converge on imbalanced data\n",
    "mod = LogisticRegression(max_iter=1_000)\n",
    "mod.fit(X, y).predict(X).sum()\n"
   ]
  },
  {
   "cell_type": "markdown",
   "id": "62f5a1ea",
   "metadata": {},
   "source": [
    "This initial approach is a simple baseline, but it may not detect enough fraud cases due to the class imbalance. One way to address this is by adjusting the `class_weight` parameter in logistic regression.\n",
    "\n",
    "The `class_weight` parameter lets us assign more importance to the minority class (fraud). For example, we can double the weight for fraud cases (`class 1`) compared to non-fraud cases (`class 0`). This encourages the model to pay more attention to fraud detection, potentially increasing the number of fraud cases it identifies.\n",
    "\n",
    "Let's see how changing the class weights affects the model's predictions."
   ]
  },
  {
   "cell_type": "code",
   "execution_count": 6,
   "id": "68db5e65",
   "metadata": {},
   "outputs": [
    {
     "data": {
      "text/plain": [
       "171"
      ]
     },
     "execution_count": 6,
     "metadata": {},
     "output_type": "execute_result"
    }
   ],
   "source": [
    "# Set class_weight to give more importance to fraud cases and see how predictions change\n",
    "mod = LogisticRegression(class_weight={0: 1, 1: 2}, max_iter=1_000)\n",
    "mod.fit(X, y).predict(X).sum()\n"
   ]
  },
  {
   "cell_type": "markdown",
   "id": "8218b4bf",
   "metadata": {},
   "source": [
    "By increasing the weight for fraud cases, the model is able to detect more of them. This demonstrates how hyperparameters like `class_weight` can significantly impact model performance.\n",
    "\n",
    "To systematically find the best settings, we can use a grid search. Grid search tests multiple hyperparameter values (such as different class weights) and evaluates each model using a chosen metric. This helps us identify the configuration that works best for our specific problem.\n",
    "\n",
    "Let's set up a grid search to optimize the class weight parameter."
   ]
  },
  {
   "cell_type": "code",
   "execution_count": 7,
   "id": "62adee7f",
   "metadata": {},
   "outputs": [
    {
     "data": {
      "text/plain": [
       "GridSearchCV(cv=4, estimator=LogisticRegression(max_iter=1000), n_jobs=-1,\n",
       "             param_grid={'class_weight': [{0: 1, 1: 1}, {0: 1, 1: 2},\n",
       "                                          {0: 1, 1: 3}]})"
      ]
     },
     "execution_count": 7,
     "metadata": {},
     "output_type": "execute_result"
    }
   ],
   "source": [
    "# Import GridSearchCV to search for the best hyperparameters automatically\n",
    "from sklearn.model_selection import GridSearchCV\n",
    "\n",
    "grid = GridSearchCV(\n",
    "    estimator=LogisticRegression(max_iter=1_000),\n",
    "    # Test different weights for the fraud class\n",
    "    param_grid={\"class_weight\": [{0: 1, 1: v} for v in range(1, 4)]},\n",
    "    cv=4,\n",
    "    n_jobs=-1,\n",
    ")\n",
    "\n",
    "grid.fit(X, y)\n"
   ]
  },
  {
   "cell_type": "markdown",
   "id": "ab0101ae",
   "metadata": {},
   "source": [
    "After running the grid search, we can access the cross-validation results through the `cv_results_` attribute. This contains detailed information about each parameter combination tested, including the scores for each fold.\n",
    "\n",
    "By converting `cv_results_` to a DataFrame, we can easily inspect and analyze the results."
   ]
  },
  {
   "cell_type": "code",
   "execution_count": 8,
   "id": "2195df53",
   "metadata": {},
   "outputs": [
    {
     "data": {
      "text/html": [
       "<div>\n",
       "<style scoped>\n",
       "    .dataframe tbody tr th:only-of-type {\n",
       "        vertical-align: middle;\n",
       "    }\n",
       "\n",
       "    .dataframe tbody tr th {\n",
       "        vertical-align: top;\n",
       "    }\n",
       "\n",
       "    .dataframe thead th {\n",
       "        text-align: right;\n",
       "    }\n",
       "</style>\n",
       "<table border=\"1\" class=\"dataframe\">\n",
       "  <thead>\n",
       "    <tr style=\"text-align: right;\">\n",
       "      <th></th>\n",
       "      <th>mean_fit_time</th>\n",
       "      <th>std_fit_time</th>\n",
       "      <th>mean_score_time</th>\n",
       "      <th>std_score_time</th>\n",
       "      <th>param_class_weight</th>\n",
       "      <th>params</th>\n",
       "      <th>split0_test_score</th>\n",
       "      <th>split1_test_score</th>\n",
       "      <th>split2_test_score</th>\n",
       "      <th>split3_test_score</th>\n",
       "      <th>mean_test_score</th>\n",
       "      <th>std_test_score</th>\n",
       "      <th>rank_test_score</th>\n",
       "    </tr>\n",
       "  </thead>\n",
       "  <tbody>\n",
       "    <tr>\n",
       "      <th>0</th>\n",
       "      <td>0.463532</td>\n",
       "      <td>0.061621</td>\n",
       "      <td>0.002343</td>\n",
       "      <td>0.001089</td>\n",
       "      <td>{0: 1, 1: 1}</td>\n",
       "      <td>{'class_weight': {0: 1, 1: 1}}</td>\n",
       "      <td>0.99405</td>\n",
       "      <td>0.99835</td>\n",
       "      <td>0.99945</td>\n",
       "      <td>0.99780</td>\n",
       "      <td>0.997413</td>\n",
       "      <td>0.002030</td>\n",
       "      <td>1</td>\n",
       "    </tr>\n",
       "    <tr>\n",
       "      <th>1</th>\n",
       "      <td>0.431063</td>\n",
       "      <td>0.059859</td>\n",
       "      <td>0.001593</td>\n",
       "      <td>0.000122</td>\n",
       "      <td>{0: 1, 1: 2}</td>\n",
       "      <td>{'class_weight': {0: 1, 1: 2}}</td>\n",
       "      <td>0.99020</td>\n",
       "      <td>0.99840</td>\n",
       "      <td>0.99960</td>\n",
       "      <td>0.99805</td>\n",
       "      <td>0.996563</td>\n",
       "      <td>0.003718</td>\n",
       "      <td>2</td>\n",
       "    </tr>\n",
       "    <tr>\n",
       "      <th>2</th>\n",
       "      <td>0.393593</td>\n",
       "      <td>0.048405</td>\n",
       "      <td>0.001332</td>\n",
       "      <td>0.000284</td>\n",
       "      <td>{0: 1, 1: 3}</td>\n",
       "      <td>{'class_weight': {0: 1, 1: 3}}</td>\n",
       "      <td>0.98730</td>\n",
       "      <td>0.99845</td>\n",
       "      <td>0.99960</td>\n",
       "      <td>0.99815</td>\n",
       "      <td>0.995875</td>\n",
       "      <td>0.004980</td>\n",
       "      <td>3</td>\n",
       "    </tr>\n",
       "  </tbody>\n",
       "</table>\n",
       "</div>"
      ],
      "text/plain": [
       "   mean_fit_time  std_fit_time  mean_score_time  std_score_time  \\\n",
       "0       0.463532      0.061621         0.002343        0.001089   \n",
       "1       0.431063      0.059859         0.001593        0.000122   \n",
       "2       0.393593      0.048405         0.001332        0.000284   \n",
       "\n",
       "  param_class_weight                          params  split0_test_score  \\\n",
       "0       {0: 1, 1: 1}  {'class_weight': {0: 1, 1: 1}}            0.99405   \n",
       "1       {0: 1, 1: 2}  {'class_weight': {0: 1, 1: 2}}            0.99020   \n",
       "2       {0: 1, 1: 3}  {'class_weight': {0: 1, 1: 3}}            0.98730   \n",
       "\n",
       "   split1_test_score  split2_test_score  split3_test_score  mean_test_score  \\\n",
       "0            0.99835            0.99945            0.99780         0.997413   \n",
       "1            0.99840            0.99960            0.99805         0.996563   \n",
       "2            0.99845            0.99960            0.99815         0.995875   \n",
       "\n",
       "   std_test_score  rank_test_score  \n",
       "0        0.002030                1  \n",
       "1        0.003718                2  \n",
       "2        0.004980                3  "
      ]
     },
     "execution_count": 8,
     "metadata": {},
     "output_type": "execute_result"
    }
   ],
   "source": [
    "# Convert the grid search results to a DataFrame for easier inspection\n",
    "# grid.cv_results_\n",
    "pd.DataFrame(grid.cv_results_)\n"
   ]
  },
  {
   "cell_type": "markdown",
   "id": "7731fb99",
   "metadata": {},
   "source": [
    "In the results, you'll see the tested class weights (`param_class_weight`) and the corresponding scores for each cross-validation split. By default, grid search uses the model's `score` method to evaluate performance.\n",
    "\n",
    "For logistic regression, the default `score` method computes **accuracy**—the proportion of correct predictions. However, in imbalanced datasets, accuracy can be misleading: a model that always predicts \"not fraud\" will have high accuracy but fail to detect fraud cases.\n",
    "\n",
    "Let's check which metric is being used by default and discuss why accuracy may not be the best choice for this problem."
   ]
  },
  {
   "cell_type": "code",
   "execution_count": 9,
   "id": "9763ad4d",
   "metadata": {},
   "outputs": [
    {
     "data": {
      "text/plain": [
       "<bound method ClassifierMixin.score of LogisticRegression()>"
      ]
     },
     "execution_count": 9,
     "metadata": {},
     "output_type": "execute_result"
    }
   ],
   "source": [
    "# Create a LogisticRegression object and check its default scoring method\n",
    "lr = LogisticRegression()\n",
    "lr.score\n"
   ]
  },
  {
   "cell_type": "code",
   "execution_count": 10,
   "id": "a9bcdaea",
   "metadata": {},
   "outputs": [
    {
     "name": "stdout",
     "output_type": "stream",
     "text": [
      "\u001b[0;31mSignature:\u001b[0m \u001b[0mlr\u001b[0m\u001b[0;34m.\u001b[0m\u001b[0mscore\u001b[0m\u001b[0;34m(\u001b[0m\u001b[0mX\u001b[0m\u001b[0;34m,\u001b[0m \u001b[0my\u001b[0m\u001b[0;34m,\u001b[0m \u001b[0msample_weight\u001b[0m\u001b[0;34m=\u001b[0m\u001b[0;32mNone\u001b[0m\u001b[0;34m)\u001b[0m\u001b[0;34m\u001b[0m\u001b[0;34m\u001b[0m\u001b[0m\n",
      "\u001b[0;31mSource:\u001b[0m   \n",
      "    \u001b[0;32mdef\u001b[0m \u001b[0mscore\u001b[0m\u001b[0;34m(\u001b[0m\u001b[0mself\u001b[0m\u001b[0;34m,\u001b[0m \u001b[0mX\u001b[0m\u001b[0;34m,\u001b[0m \u001b[0my\u001b[0m\u001b[0;34m,\u001b[0m \u001b[0msample_weight\u001b[0m\u001b[0;34m=\u001b[0m\u001b[0;32mNone\u001b[0m\u001b[0;34m)\u001b[0m\u001b[0;34m:\u001b[0m\u001b[0;34m\u001b[0m\n",
      "\u001b[0;34m\u001b[0m        \u001b[0;34m\"\"\"\u001b[0m\n",
      "\u001b[0;34m        Return the mean accuracy on the given test data and labels.\u001b[0m\n",
      "\u001b[0;34m\u001b[0m\n",
      "\u001b[0;34m        In multi-label classification, this is the subset accuracy\u001b[0m\n",
      "\u001b[0;34m        which is a harsh metric since you require for each sample that\u001b[0m\n",
      "\u001b[0;34m        each label set be correctly predicted.\u001b[0m\n",
      "\u001b[0;34m\u001b[0m\n",
      "\u001b[0;34m        Parameters\u001b[0m\n",
      "\u001b[0;34m        ----------\u001b[0m\n",
      "\u001b[0;34m        X : array-like of shape (n_samples, n_features)\u001b[0m\n",
      "\u001b[0;34m            Test samples.\u001b[0m\n",
      "\u001b[0;34m\u001b[0m\n",
      "\u001b[0;34m        y : array-like of shape (n_samples,) or (n_samples, n_outputs)\u001b[0m\n",
      "\u001b[0;34m            True labels for X.\u001b[0m\n",
      "\u001b[0;34m\u001b[0m\n",
      "\u001b[0;34m        sample_weight : array-like of shape (n_samples,), default=None\u001b[0m\n",
      "\u001b[0;34m            Sample weights.\u001b[0m\n",
      "\u001b[0;34m\u001b[0m\n",
      "\u001b[0;34m        Returns\u001b[0m\n",
      "\u001b[0;34m        -------\u001b[0m\n",
      "\u001b[0;34m        score : float\u001b[0m\n",
      "\u001b[0;34m            Mean accuracy of self.predict(X) wrt. y.\u001b[0m\n",
      "\u001b[0;34m        \"\"\"\u001b[0m\u001b[0;34m\u001b[0m\n",
      "\u001b[0;34m\u001b[0m        \u001b[0;32mfrom\u001b[0m \u001b[0;34m.\u001b[0m\u001b[0mmetrics\u001b[0m \u001b[0;32mimport\u001b[0m \u001b[0maccuracy_score\u001b[0m\u001b[0;34m\u001b[0m\n",
      "\u001b[0;34m\u001b[0m        \u001b[0;32mreturn\u001b[0m \u001b[0maccuracy_score\u001b[0m\u001b[0;34m(\u001b[0m\u001b[0my\u001b[0m\u001b[0;34m,\u001b[0m \u001b[0mself\u001b[0m\u001b[0;34m.\u001b[0m\u001b[0mpredict\u001b[0m\u001b[0;34m(\u001b[0m\u001b[0mX\u001b[0m\u001b[0;34m)\u001b[0m\u001b[0;34m,\u001b[0m \u001b[0msample_weight\u001b[0m\u001b[0;34m=\u001b[0m\u001b[0msample_weight\u001b[0m\u001b[0;34m)\u001b[0m\u001b[0;34m\u001b[0m\u001b[0;34m\u001b[0m\u001b[0m\n",
      "\u001b[0;31mFile:\u001b[0m      ~/dev/github-ryouze/scikit-learn-practice/env/lib/python3.8/site-packages/sklearn/base.py\n",
      "\u001b[0;31mType:\u001b[0m      method"
     ]
    }
   ],
   "source": [
    "# Use ?? to display the source code or documentation for the score method\n",
    "??lr.score\n"
   ]
  },
  {
   "cell_type": "markdown",
   "id": "270a5b34",
   "metadata": {},
   "source": [
    "The `score` method in logistic regression returns the **accuracy** of the model, which is the fraction of correct predictions out of all predictions. Internally, it uses `accuracy_score` from scikit-learn's metrics module.\n",
    "\n",
    "While accuracy is a common metric, it is not always appropriate for imbalanced datasets. In our case, predicting all transactions as non-fraud would yield high accuracy, but the model would miss nearly all fraud cases.\n",
    "\n",
    "To better evaluate model performance in this context, we should consider other metrics such as **precision** and **recall**."
   ]
  },
  {
   "cell_type": "markdown",
   "id": "a43f4f09",
   "metadata": {},
   "source": [
    "## What is Accuracy?\n",
    "\n",
    "**Accuracy** is the most basic metric for classification. It measures the proportion of correct predictions out of all predictions made.\n",
    "\n",
    "**Formula:**\n",
    "\n",
    "    Accuracy = (Number of Correct Predictions) / (Total Number of Predictions)\n",
    "\n",
    "**Example:**\n",
    "Suppose you have 100 transactions, and only 2 are fraud. If your model predicts \"not fraud\" for every transaction, it will be correct 98 times and wrong 2 times. So, the accuracy is 98%.\n",
    "\n",
    "**Why is this misleading?**\n",
    "In imbalanced datasets (like fraud detection), accuracy can be very high even if the model never detects any fraud! That's why we need other metrics to evaluate performance more meaningfully."
   ]
  },
  {
   "cell_type": "code",
   "execution_count": null,
   "id": "10c669ce",
   "metadata": {},
   "outputs": [],
   "source": [
    "# Import precision_score and recall_score to measure model performance on imbalanced data\n",
    "from sklearn.metrics import precision_score, recall_score\n"
   ]
  },
  {
   "cell_type": "markdown",
   "id": "2e460e9f",
   "metadata": {},
   "source": [
    "Scikit-learn provides many metrics for classification problems. Two important ones for imbalanced datasets are **precision** and **recall**:\n",
    "\n",
    "- **Precision** measures the proportion of predicted fraud cases that are actually fraud. High precision means that when the model predicts fraud, it is usually correct.\n",
    "- **Recall** measures the proportion of actual fraud cases that the model successfully detects. High recall means the model catches most fraud cases.\n",
    "\n",
    "Let's compute precision and recall for our model using the true labels and the model's predictions."
   ]
  },
  {
   "cell_type": "markdown",
   "id": "622ea084",
   "metadata": {},
   "source": [
    "## What is Recall?\n",
    "\n",
    "**Recall** (also called Sensitivity or True Positive Rate) measures how many of the actual positive cases (e.g., frauds) your model successfully finds.\n",
    "\n",
    "**Formula:**\n",
    "\n",
    "    Recall = (Number of True Positives) / (Number of Actual Positives)\n",
    "\n",
    "**Example:**\n",
    "If there are 100 fraud cases and your model finds 80 of them, recall is 80/100 = 0.8 (or 80%).\n",
    "\n",
    "**Why is recall important?**\n",
    "In fraud detection, missing a fraud (false negative) can be very costly. High recall means you catch most of the frauds, even if you sometimes make mistakes (false alarms)."
   ]
  },
  {
   "cell_type": "code",
   "execution_count": 12,
   "id": "501905de",
   "metadata": {},
   "outputs": [
    {
     "data": {
      "text/plain": [
       "0.7682119205298014"
      ]
     },
     "execution_count": 12,
     "metadata": {},
     "output_type": "execute_result"
    }
   ],
   "source": [
    "# Calculate the precision score: how many predicted frauds are actually fraud?\n",
    "precision_score(y, grid.predict(X))\n"
   ]
  },
  {
   "cell_type": "markdown",
   "id": "62e19c7d",
   "metadata": {},
   "source": [
    "Precision and recall capture different aspects of model performance:\n",
    "\n",
    "- **Recall** answers: \"Of all actual fraud cases, how many did the model find?\"\n",
    "- **Precision** answers: \"Of all cases the model predicted as fraud, how many were truly fraud?\"\n",
    "\n",
    "There is often a trade-off between the two. For example, predicting every transaction as fraud gives perfect recall but poor precision. Conversely, being very selective may yield high precision but low recall.\n",
    "\n",
    "Depending on the application, you may care more about one metric than the other. In fraud detection, missing fraud (low recall) can be costly, but too many false alarms (low precision) can also be problematic."
   ]
  },
  {
   "cell_type": "markdown",
   "id": "4cf0f042",
   "metadata": {},
   "source": [
    "## What is F1 Score?\n",
    "\n",
    "**F1 Score** is a metric that combines both precision and recall into a single number. It is the harmonic mean of precision and recall, and is especially useful when you want a balance between the two.\n",
    "\n",
    "**Formula:**\n",
    "\n",
    "    F1 = 2 * (Precision * Recall) / (Precision + Recall)\n",
    "\n",
    "**Example:**\n",
    "If your model has precision = 0.6 and recall = 0.8:\n",
    "\n",
    "    F1 = 2 * (0.6 * 0.8) / (0.6 + 0.8) = 0.685\n",
    "\n",
    "**Why use F1 score?**\n",
    "F1 score is helpful when you care about both catching as many positives as possible (recall) and making sure your positive predictions are correct (precision). It is especially useful for imbalanced datasets, where accuracy alone can be misleading."
   ]
  },
  {
   "cell_type": "code",
   "execution_count": 13,
   "id": "48401728",
   "metadata": {},
   "outputs": [
    {
     "data": {
      "text/plain": [
       "0.5918367346938775"
      ]
     },
     "execution_count": 13,
     "metadata": {},
     "output_type": "execute_result"
    }
   ],
   "source": [
    "# Calculate the recall score: how many actual frauds did the model find?\n",
    "recall_score(y, grid.predict(X))\n"
   ]
  },
  {
   "cell_type": "markdown",
   "id": "3d6191a5",
   "metadata": {},
   "source": [
    "To compare models using different metrics, we can add precision and recall as scoring functions in the grid search. This allows us to see how each model performs on both metrics.\n",
    "\n",
    "In scikit-learn, you can pass a dictionary of scoring functions to `GridSearchCV`. If you want the grid search to select the best model based on a specific metric (e.g., precision), set the `refit` parameter to that metric's name.\n",
    "\n",
    "Note: To use custom metric functions in grid search, you need to wrap them with `make_scorer`. This tells scikit-learn how to use your function during model evaluation.\n",
    "\n",
    "Let's update our grid search to track both precision and recall, and select the best model based on precision."
   ]
  },
  {
   "cell_type": "code",
   "execution_count": 14,
   "id": "c46f567e",
   "metadata": {},
   "outputs": [
    {
     "data": {
      "text/html": [
       "<div>\n",
       "<style scoped>\n",
       "    .dataframe tbody tr th:only-of-type {\n",
       "        vertical-align: middle;\n",
       "    }\n",
       "\n",
       "    .dataframe tbody tr th {\n",
       "        vertical-align: top;\n",
       "    }\n",
       "\n",
       "    .dataframe thead th {\n",
       "        text-align: right;\n",
       "    }\n",
       "</style>\n",
       "<table border=\"1\" class=\"dataframe\">\n",
       "  <thead>\n",
       "    <tr style=\"text-align: right;\">\n",
       "      <th></th>\n",
       "      <th>mean_fit_time</th>\n",
       "      <th>std_fit_time</th>\n",
       "      <th>mean_score_time</th>\n",
       "      <th>std_score_time</th>\n",
       "      <th>param_class_weight</th>\n",
       "      <th>params</th>\n",
       "      <th>split0_test_precision</th>\n",
       "      <th>split1_test_precision</th>\n",
       "      <th>split2_test_precision</th>\n",
       "      <th>split3_test_precision</th>\n",
       "      <th>mean_test_precision</th>\n",
       "      <th>std_test_precision</th>\n",
       "      <th>rank_test_precision</th>\n",
       "      <th>split0_test_recall</th>\n",
       "      <th>split1_test_recall</th>\n",
       "      <th>split2_test_recall</th>\n",
       "      <th>split3_test_recall</th>\n",
       "      <th>mean_test_recall</th>\n",
       "      <th>std_test_recall</th>\n",
       "      <th>rank_test_recall</th>\n",
       "    </tr>\n",
       "  </thead>\n",
       "  <tbody>\n",
       "    <tr>\n",
       "      <th>0</th>\n",
       "      <td>0.530039</td>\n",
       "      <td>0.084689</td>\n",
       "      <td>0.006695</td>\n",
       "      <td>0.000465</td>\n",
       "      <td>{0: 1, 1: 1}</td>\n",
       "      <td>{'class_weight': {0: 1, 1: 1}}</td>\n",
       "      <td>0.281250</td>\n",
       "      <td>1.0</td>\n",
       "      <td>0.952381</td>\n",
       "      <td>0.857143</td>\n",
       "      <td>0.772693</td>\n",
       "      <td>0.288359</td>\n",
       "      <td>1</td>\n",
       "      <td>0.918367</td>\n",
       "      <td>0.326531</td>\n",
       "      <td>0.816327</td>\n",
       "      <td>0.122449</td>\n",
       "      <td>0.545918</td>\n",
       "      <td>0.331397</td>\n",
       "      <td>3</td>\n",
       "    </tr>\n",
       "    <tr>\n",
       "      <th>1</th>\n",
       "      <td>0.512170</td>\n",
       "      <td>0.108899</td>\n",
       "      <td>0.008759</td>\n",
       "      <td>0.001957</td>\n",
       "      <td>{0: 1, 1: 2}</td>\n",
       "      <td>{'class_weight': {0: 1, 1: 2}}</td>\n",
       "      <td>0.189873</td>\n",
       "      <td>1.0</td>\n",
       "      <td>0.955556</td>\n",
       "      <td>0.812500</td>\n",
       "      <td>0.739482</td>\n",
       "      <td>0.324792</td>\n",
       "      <td>2</td>\n",
       "      <td>0.918367</td>\n",
       "      <td>0.346939</td>\n",
       "      <td>0.877551</td>\n",
       "      <td>0.265306</td>\n",
       "      <td>0.602041</td>\n",
       "      <td>0.297672</td>\n",
       "      <td>2</td>\n",
       "    </tr>\n",
       "    <tr>\n",
       "      <th>2</th>\n",
       "      <td>0.389405</td>\n",
       "      <td>0.054907</td>\n",
       "      <td>0.005494</td>\n",
       "      <td>0.000258</td>\n",
       "      <td>{0: 1, 1: 3}</td>\n",
       "      <td>{'class_weight': {0: 1, 1: 3}}</td>\n",
       "      <td>0.154882</td>\n",
       "      <td>1.0</td>\n",
       "      <td>0.955556</td>\n",
       "      <td>0.800000</td>\n",
       "      <td>0.727609</td>\n",
       "      <td>0.338900</td>\n",
       "      <td>3</td>\n",
       "      <td>0.938776</td>\n",
       "      <td>0.367347</td>\n",
       "      <td>0.877551</td>\n",
       "      <td>0.326531</td>\n",
       "      <td>0.627551</td>\n",
       "      <td>0.281816</td>\n",
       "      <td>1</td>\n",
       "    </tr>\n",
       "  </tbody>\n",
       "</table>\n",
       "</div>"
      ],
      "text/plain": [
       "   mean_fit_time  std_fit_time  mean_score_time  std_score_time  \\\n",
       "0       0.530039      0.084689         0.006695        0.000465   \n",
       "1       0.512170      0.108899         0.008759        0.001957   \n",
       "2       0.389405      0.054907         0.005494        0.000258   \n",
       "\n",
       "  param_class_weight                          params  split0_test_precision  \\\n",
       "0       {0: 1, 1: 1}  {'class_weight': {0: 1, 1: 1}}               0.281250   \n",
       "1       {0: 1, 1: 2}  {'class_weight': {0: 1, 1: 2}}               0.189873   \n",
       "2       {0: 1, 1: 3}  {'class_weight': {0: 1, 1: 3}}               0.154882   \n",
       "\n",
       "   split1_test_precision  split2_test_precision  split3_test_precision  \\\n",
       "0                    1.0               0.952381               0.857143   \n",
       "1                    1.0               0.955556               0.812500   \n",
       "2                    1.0               0.955556               0.800000   \n",
       "\n",
       "   mean_test_precision  std_test_precision  rank_test_precision  \\\n",
       "0             0.772693            0.288359                    1   \n",
       "1             0.739482            0.324792                    2   \n",
       "2             0.727609            0.338900                    3   \n",
       "\n",
       "   split0_test_recall  split1_test_recall  split2_test_recall  \\\n",
       "0            0.918367            0.326531            0.816327   \n",
       "1            0.918367            0.346939            0.877551   \n",
       "2            0.938776            0.367347            0.877551   \n",
       "\n",
       "   split3_test_recall  mean_test_recall  std_test_recall  rank_test_recall  \n",
       "0            0.122449          0.545918         0.331397                 3  \n",
       "1            0.265306          0.602041         0.297672                 2  \n",
       "2            0.326531          0.627551         0.281816                 1  "
      ]
     },
     "execution_count": 14,
     "metadata": {},
     "output_type": "execute_result"
    }
   ],
   "source": [
    "# Use make_scorer to add precision and recall as metrics in grid search\n",
    "from sklearn.metrics import make_scorer\n",
    "\n",
    "grid = GridSearchCV(\n",
    "    estimator=LogisticRegression(max_iter=1_000),\n",
    "    # Test different weights for the fraud class\n",
    "    param_grid={\"class_weight\": [{0: 1, 1: v} for v in range(1, 4)]},\n",
    "    scoring={\n",
    "        \"precision\": make_scorer(precision_score),\n",
    "        \"recall\": make_scorer(recall_score),\n",
    "    },\n",
    "    refit=\"precision\",\n",
    "    cv=4,\n",
    "    n_jobs=-1,\n",
    ")\n",
    "\n",
    "grid.fit(X, y)\n",
    "pd.DataFrame(grid.cv_results_)\n"
   ]
  },
  {
   "cell_type": "markdown",
   "id": "08bcc3bc",
   "metadata": {},
   "source": [
    "With the updated grid search, we now see both test precision and recall scores for each parameter setting. Sometimes, it's also helpful to view the training scores to check for overfitting or underfitting.\n",
    "\n",
    "By enabling the `return_train_score` flag, we can include training scores in the cross-validation results for a more complete picture of model performance."
   ]
  },
  {
   "cell_type": "code",
   "execution_count": 15,
   "id": "57881a76",
   "metadata": {},
   "outputs": [
    {
     "data": {
      "text/html": [
       "<div>\n",
       "<style scoped>\n",
       "    .dataframe tbody tr th:only-of-type {\n",
       "        vertical-align: middle;\n",
       "    }\n",
       "\n",
       "    .dataframe tbody tr th {\n",
       "        vertical-align: top;\n",
       "    }\n",
       "\n",
       "    .dataframe thead th {\n",
       "        text-align: right;\n",
       "    }\n",
       "</style>\n",
       "<table border=\"1\" class=\"dataframe\">\n",
       "  <thead>\n",
       "    <tr style=\"text-align: right;\">\n",
       "      <th></th>\n",
       "      <th>mean_fit_time</th>\n",
       "      <th>std_fit_time</th>\n",
       "      <th>mean_score_time</th>\n",
       "      <th>std_score_time</th>\n",
       "      <th>param_class_weight</th>\n",
       "      <th>params</th>\n",
       "      <th>split0_test_precision</th>\n",
       "      <th>split1_test_precision</th>\n",
       "      <th>split2_test_precision</th>\n",
       "      <th>split3_test_precision</th>\n",
       "      <th>...</th>\n",
       "      <th>split3_test_recall</th>\n",
       "      <th>mean_test_recall</th>\n",
       "      <th>std_test_recall</th>\n",
       "      <th>rank_test_recall</th>\n",
       "      <th>split0_train_recall</th>\n",
       "      <th>split1_train_recall</th>\n",
       "      <th>split2_train_recall</th>\n",
       "      <th>split3_train_recall</th>\n",
       "      <th>mean_train_recall</th>\n",
       "      <th>std_train_recall</th>\n",
       "    </tr>\n",
       "  </thead>\n",
       "  <tbody>\n",
       "    <tr>\n",
       "      <th>0</th>\n",
       "      <td>0.473311</td>\n",
       "      <td>0.073077</td>\n",
       "      <td>0.006791</td>\n",
       "      <td>0.000100</td>\n",
       "      <td>{0: 1, 1: 1}</td>\n",
       "      <td>{'class_weight': {0: 1, 1: 1}}</td>\n",
       "      <td>0.281250</td>\n",
       "      <td>1.0</td>\n",
       "      <td>0.952381</td>\n",
       "      <td>0.857143</td>\n",
       "      <td>...</td>\n",
       "      <td>0.122449</td>\n",
       "      <td>0.545918</td>\n",
       "      <td>0.331397</td>\n",
       "      <td>3</td>\n",
       "      <td>0.863946</td>\n",
       "      <td>0.585034</td>\n",
       "      <td>0.530612</td>\n",
       "      <td>0.693878</td>\n",
       "      <td>0.668367</td>\n",
       "      <td>0.127301</td>\n",
       "    </tr>\n",
       "    <tr>\n",
       "      <th>1</th>\n",
       "      <td>0.441390</td>\n",
       "      <td>0.096089</td>\n",
       "      <td>0.009486</td>\n",
       "      <td>0.002978</td>\n",
       "      <td>{0: 1, 1: 2}</td>\n",
       "      <td>{'class_weight': {0: 1, 1: 2}}</td>\n",
       "      <td>0.189873</td>\n",
       "      <td>1.0</td>\n",
       "      <td>0.955556</td>\n",
       "      <td>0.812500</td>\n",
       "      <td>...</td>\n",
       "      <td>0.265306</td>\n",
       "      <td>0.602041</td>\n",
       "      <td>0.297672</td>\n",
       "      <td>2</td>\n",
       "      <td>0.870748</td>\n",
       "      <td>0.659864</td>\n",
       "      <td>0.632653</td>\n",
       "      <td>0.782313</td>\n",
       "      <td>0.736395</td>\n",
       "      <td>0.095889</td>\n",
       "    </tr>\n",
       "    <tr>\n",
       "      <th>2</th>\n",
       "      <td>0.363930</td>\n",
       "      <td>0.063665</td>\n",
       "      <td>0.005405</td>\n",
       "      <td>0.000351</td>\n",
       "      <td>{0: 1, 1: 3}</td>\n",
       "      <td>{'class_weight': {0: 1, 1: 3}}</td>\n",
       "      <td>0.154882</td>\n",
       "      <td>1.0</td>\n",
       "      <td>0.955556</td>\n",
       "      <td>0.800000</td>\n",
       "      <td>...</td>\n",
       "      <td>0.326531</td>\n",
       "      <td>0.627551</td>\n",
       "      <td>0.281816</td>\n",
       "      <td>1</td>\n",
       "      <td>0.870748</td>\n",
       "      <td>0.714286</td>\n",
       "      <td>0.680272</td>\n",
       "      <td>0.816327</td>\n",
       "      <td>0.770408</td>\n",
       "      <td>0.076568</td>\n",
       "    </tr>\n",
       "  </tbody>\n",
       "</table>\n",
       "<p>3 rows × 32 columns</p>\n",
       "</div>"
      ],
      "text/plain": [
       "   mean_fit_time  std_fit_time  mean_score_time  std_score_time  \\\n",
       "0       0.473311      0.073077         0.006791        0.000100   \n",
       "1       0.441390      0.096089         0.009486        0.002978   \n",
       "2       0.363930      0.063665         0.005405        0.000351   \n",
       "\n",
       "  param_class_weight                          params  split0_test_precision  \\\n",
       "0       {0: 1, 1: 1}  {'class_weight': {0: 1, 1: 1}}               0.281250   \n",
       "1       {0: 1, 1: 2}  {'class_weight': {0: 1, 1: 2}}               0.189873   \n",
       "2       {0: 1, 1: 3}  {'class_weight': {0: 1, 1: 3}}               0.154882   \n",
       "\n",
       "   split1_test_precision  split2_test_precision  split3_test_precision  ...  \\\n",
       "0                    1.0               0.952381               0.857143  ...   \n",
       "1                    1.0               0.955556               0.812500  ...   \n",
       "2                    1.0               0.955556               0.800000  ...   \n",
       "\n",
       "   split3_test_recall  mean_test_recall  std_test_recall  rank_test_recall  \\\n",
       "0            0.122449          0.545918         0.331397                 3   \n",
       "1            0.265306          0.602041         0.297672                 2   \n",
       "2            0.326531          0.627551         0.281816                 1   \n",
       "\n",
       "   split0_train_recall  split1_train_recall  split2_train_recall  \\\n",
       "0             0.863946             0.585034             0.530612   \n",
       "1             0.870748             0.659864             0.632653   \n",
       "2             0.870748             0.714286             0.680272   \n",
       "\n",
       "   split3_train_recall  mean_train_recall  std_train_recall  \n",
       "0             0.693878           0.668367          0.127301  \n",
       "1             0.782313           0.736395          0.095889  \n",
       "2             0.816327           0.770408          0.076568  \n",
       "\n",
       "[3 rows x 32 columns]"
      ]
     },
     "execution_count": 15,
     "metadata": {},
     "output_type": "execute_result"
    }
   ],
   "source": [
    "# Enable return_train_score to see training scores in the grid search results\n",
    "grid = GridSearchCV(\n",
    "    estimator=LogisticRegression(max_iter=1_000),\n",
    "    # Test different weights for the fraud class\n",
    "    param_grid={\"class_weight\": [{0: 1, 1: v} for v in range(1, 4)]},\n",
    "    scoring={\n",
    "        \"precision\": make_scorer(precision_score),\n",
    "        \"recall\": make_scorer(recall_score),\n",
    "    },\n",
    "    refit=\"precision\",\n",
    "    return_train_score=True,  # Enable this\n",
    "    cv=4,\n",
    "    n_jobs=-1,\n",
    ")\n",
    "\n",
    "grid.fit(X, y)\n",
    "pd.DataFrame(grid.cv_results_)\n"
   ]
  },
  {
   "cell_type": "markdown",
   "id": "cf84cbdc",
   "metadata": {},
   "source": [
    "To improve the reliability of our evaluation, we can increase the number of cross-validation folds (e.g., from 4 to 10). This provides a more robust estimate of model performance, though it takes longer to run.\n",
    "\n",
    "We can also use a finer grid for the class weight parameter, testing more values to better understand its effect on precision and recall. This helps us find the optimal balance between the two metrics.\n",
    "\n",
    "After running the grid search with these settings, we can visualize the results to see how class weight influences model performance."
   ]
  },
  {
   "cell_type": "code",
   "execution_count": 16,
   "id": "11979d82",
   "metadata": {},
   "outputs": [
    {
     "data": {
      "text/plain": [
       "array([ 1.        ,  1.65517241,  2.31034483,  2.96551724,  3.62068966,\n",
       "        4.27586207,  4.93103448,  5.5862069 ,  6.24137931,  6.89655172,\n",
       "        7.55172414,  8.20689655,  8.86206897,  9.51724138, 10.17241379,\n",
       "       10.82758621, 11.48275862, 12.13793103, 12.79310345, 13.44827586,\n",
       "       14.10344828, 14.75862069, 15.4137931 , 16.06896552, 16.72413793,\n",
       "       17.37931034, 18.03448276, 18.68965517, 19.34482759, 20.        ])"
      ]
     },
     "execution_count": 16,
     "metadata": {},
     "output_type": "execute_result"
    }
   ],
   "source": [
    "# Generate 30 evenly spaced numbers between 1 and 20 for class weights\n",
    "np.linspace(1, 20, 30)\n"
   ]
  },
  {
   "cell_type": "code",
   "execution_count": 17,
   "id": "5de59027",
   "metadata": {},
   "outputs": [
    {
     "name": "stderr",
     "output_type": "stream",
     "text": [
      "/Users/hikari/dev/github-ryouze/scikit-learn-practice/env/lib/python3.8/site-packages/sklearn/metrics/_classification.py:1221: UndefinedMetricWarning: Precision is ill-defined and being set to 0.0 due to no predicted samples. Use `zero_division` parameter to control this behavior.\n",
      "  _warn_prf(average, modifier, msg_start, len(result))\n"
     ]
    },
    {
     "data": {
      "text/plain": [
       "GridSearchCV(cv=10, estimator=LogisticRegression(max_iter=1000), n_jobs=-1,\n",
       "             param_grid={'class_weight': [{0: 1, 1: 1.0},\n",
       "                                          {0: 1, 1: 1.6551724137931034},\n",
       "                                          {0: 1, 1: 2.310344827586207},\n",
       "                                          {0: 1, 1: 2.9655172413793105},\n",
       "                                          {0: 1, 1: 3.6206896551724137},\n",
       "                                          {0: 1, 1: 4.275862068965517},\n",
       "                                          {0: 1, 1: 4.931034482758621},\n",
       "                                          {0: 1, 1: 5.586206896551724},\n",
       "                                          {0: 1, 1: 6.241379310344827},\n",
       "                                          {0: 1, 1: 6.896551724137931},...\n",
       "                                          {0: 1, 1: 14.758620689655173},\n",
       "                                          {0: 1, 1: 15.413793103448276},\n",
       "                                          {0: 1, 1: 16.06896551724138},\n",
       "                                          {0: 1, 1: 16.724137931034484},\n",
       "                                          {0: 1, 1: 17.379310344827587},\n",
       "                                          {0: 1, 1: 18.03448275862069},\n",
       "                                          {0: 1, 1: 18.689655172413794},\n",
       "                                          {0: 1, 1: 19.344827586206897},\n",
       "                                          {0: 1, 1: 20.0}]},\n",
       "             refit='precision', return_train_score=True,\n",
       "             scoring={'precision': make_scorer(precision_score),\n",
       "                      'recall': make_scorer(recall_score)})"
      ]
     },
     "execution_count": 17,
     "metadata": {},
     "output_type": "execute_result"
    }
   ],
   "source": [
    "# Run grid search with more class weight values and more cross-validation folds for better results\n",
    "grid = GridSearchCV(\n",
    "    estimator=LogisticRegression(max_iter=1_000),\n",
    "    # Test different weights for the fraud class\n",
    "    param_grid={\n",
    "        \"class_weight\": [\n",
    "            {0: 1, 1: v}\n",
    "            for v in\n",
    "            # Generate 30 evenly spaced numbers between 1 and 20, inclusive\n",
    "            np.linspace(1, 20, 30)\n",
    "        ]\n",
    "    },\n",
    "    scoring={\n",
    "        \"precision\": make_scorer(precision_score),\n",
    "        \"recall\": make_scorer(recall_score),\n",
    "    },\n",
    "    refit=\"precision\",\n",
    "    return_train_score=True,\n",
    "    cv=10,  # More cross validations - longer to run but more accurate metrics\n",
    "    n_jobs=-1,\n",
    ")\n",
    "\n",
    "grid.fit(X, y)\n"
   ]
  },
  {
   "cell_type": "markdown",
   "id": "02389b51",
   "metadata": {},
   "source": [
    "so it is now done running and i've made a few charts."
   ]
  },
  {
   "cell_type": "code",
   "execution_count": 18,
   "id": "615ba04a",
   "metadata": {},
   "outputs": [
    {
     "data": {
      "text/plain": [
       "<matplotlib.legend.Legend at 0x7f97982cbb20>"
      ]
     },
     "execution_count": 18,
     "metadata": {},
     "output_type": "execute_result"
    },
    {
     "data": {
      "image/png": "[encoded data removed]",
      "text/plain": [
       "<Figure size 1200x400 with 1 Axes>"
      ]
     },
     "metadata": {},
     "output_type": "display_data"
    }
   ],
   "source": [
    "# Plot mean test recall and precision scores for each class weight setting\n",
    "plt.figure(figsize=(12, 4))\n",
    "df = pd.DataFrame(grid.cv_results_)\n",
    "for score in [\"mean_test_recall\", \"mean_test_precision\"]:\n",
    "    plt.plot([_[1] for _ in df[\"param_class_weight\"]], df[score], label=score)\n",
    "plt.legend()\n"
   ]
  },
  {
   "cell_type": "markdown",
   "id": "681f0adf",
   "metadata": {},
   "source": [
    "The first plot shows the test set results:\n",
    "\n",
    "- The x-axis represents the class weight assigned to fraud cases.\n",
    "- The y-axis shows the mean test precision and recall scores for each setting.\n",
    "\n",
    "You can see that increasing the class weight improves recall (detects more fraud) but may reduce precision (more false positives). The optimal balance is often where the two lines intersect, depending on your priorities.\n",
    "\n",
    "This visualization helps you choose a class weight that aligns with your goals for fraud detection."
   ]
  },
  {
   "cell_type": "code",
   "execution_count": 19,
   "id": "bb2a5a13",
   "metadata": {},
   "outputs": [
    {
     "data": {
      "text/plain": [
       "<matplotlib.legend.Legend at 0x7f97ca0974c0>"
      ]
     },
     "execution_count": 19,
     "metadata": {},
     "output_type": "execute_result"
    },
    {
     "data": {
      "image/png": "[encoded data removed]",
      "text/plain": [
       "<Figure size 1200x400 with 1 Axes>"
      ]
     },
     "metadata": {},
     "output_type": "display_data"
    }
   ],
   "source": [
    "# Plot mean train recall and precision scores for each class weight setting\n",
    "plt.figure(figsize=(12, 4))\n",
    "for score in [\"mean_train_recall\", \"mean_train_precision\"]:\n",
    "    plt.scatter(x=[_[1] for _ in df[\"param_class_weight\"]], y=df[score], label=score)\n",
    "plt.legend()\n"
   ]
  },
  {
   "cell_type": "markdown",
   "id": "5c749341",
   "metadata": {},
   "source": [
    "The second plot shows the training set scores for precision and recall. Comparing train and test scores helps identify overfitting—when a model performs well on training data but poorly on new data.\n",
    "\n",
    "With two metrics, scikit-learn can optimize for either precision or recall. However, sometimes you want a balance between the two. The **F1 score** is a common metric for this purpose: it is the harmonic mean of precision and recall, providing a single value that balances both.\n",
    "\n",
    "Alternatively, you can define your own custom metric to reflect your specific needs. For example, you might want to optimize for the minimum of precision and recall to ensure neither is too low. Let's implement such a custom metric next."
   ]
  },
  {
   "cell_type": "markdown",
   "id": "ba124d77",
   "metadata": {},
   "source": [
    "## Visual Intuition and Practical Advice\n",
    "\n",
    "- **Accuracy**: Good when classes are balanced and all errors are equally costly. Not reliable for imbalanced data.\n",
    "- **Precision**: Use when false positives are costly (e.g., accusing someone of fraud when they are innocent).\n",
    "- **Recall**: Use when false negatives are costly (e.g., missing a fraud case).\n",
    "- **F1 Score**: Use when you want a balance between precision and recall, especially for imbalanced datasets.\n",
    "\n",
    "**Visual Example:**\n",
    "- Imagine a net catching fish (fraud cases) in a river (all transactions).\n",
    "  - High recall = big net, catches almost all fish, but may catch some trash (false positives, low precision).\n",
    "  - High precision = small, selective net, only catches fish, but may miss some (low recall).\n",
    "  - F1 score = tries to balance both, so you catch most fish and don’t catch too much trash.\n",
    "\n",
    "**In fraud detection:**\n",
    "- Usually, recall is very important (don’t miss fraud), but you also want reasonable precision (don’t annoy customers with too many false alarms). F1 score helps you find a good trade-off."
   ]
  },
  {
   "cell_type": "code",
   "execution_count": null,
   "id": "28857104",
   "metadata": {},
   "outputs": [],
   "source": [
    "# Define a custom metric that returns the minimum of recall and precision\n",
    "def min_recall_precision(y_true, y_pred):\n",
    "    recall = recall_score(y_true, y_pred)\n",
    "    precision = precision_score(y_true, y_pred)\n",
    "    return min(recall, precision)\n"
   ]
  },
  {
   "cell_type": "markdown",
   "id": "50da17a1",
   "metadata": {},
   "source": [
    "Let's add our custom metric, which takes the minimum of precision and recall for each model. This ensures that both metrics are reasonably high, rather than optimizing one at the expense of the other.\n",
    "\n",
    "We'll call this metric `min_both` and use it in the grid search by passing it to `make_scorer`. We'll also set `refit` to `min_both` so that the best model is selected based on this balanced criterion."
   ]
  },
  {
   "cell_type": "code",
   "execution_count": 21,
   "id": "1885d83c",
   "metadata": {},
   "outputs": [
    {
     "name": "stderr",
     "output_type": "stream",
     "text": [
      "/Users/hikari/dev/github-ryouze/scikit-learn-practice/env/lib/python3.8/site-packages/sklearn/metrics/_classification.py:1221: UndefinedMetricWarning: Precision is ill-defined and being set to 0.0 due to no predicted samples. Use `zero_division` parameter to control this behavior.\n",
      "  _warn_prf(average, modifier, msg_start, len(result))\n"
     ]
    },
    {
     "data": {
      "text/plain": [
       "GridSearchCV(cv=10, estimator=LogisticRegression(max_iter=1000), n_jobs=-1,\n",
       "             param_grid={'class_weight': [{0: 1, 1: 1.0},\n",
       "                                          {0: 1, 1: 1.6551724137931034},\n",
       "                                          {0: 1, 1: 2.310344827586207},\n",
       "                                          {0: 1, 1: 2.9655172413793105},\n",
       "                                          {0: 1, 1: 3.6206896551724137},\n",
       "                                          {0: 1, 1: 4.275862068965517},\n",
       "                                          {0: 1, 1: 4.931034482758621},\n",
       "                                          {0: 1, 1: 5.586206896551724},\n",
       "                                          {0: 1, 1: 6.241379310344827},\n",
       "                                          {0: 1, 1: 6.896551724137931},...\n",
       "                                          {0: 1, 1: 15.413793103448276},\n",
       "                                          {0: 1, 1: 16.06896551724138},\n",
       "                                          {0: 1, 1: 16.724137931034484},\n",
       "                                          {0: 1, 1: 17.379310344827587},\n",
       "                                          {0: 1, 1: 18.03448275862069},\n",
       "                                          {0: 1, 1: 18.689655172413794},\n",
       "                                          {0: 1, 1: 19.344827586206897},\n",
       "                                          {0: 1, 1: 20.0}]},\n",
       "             refit='min_both', return_train_score=True,\n",
       "             scoring={'min_both': make_scorer(min_recall_precision),\n",
       "                      'precision': make_scorer(precision_score),\n",
       "                      'recall': make_scorer(recall_score)})"
      ]
     },
     "execution_count": 21,
     "metadata": {},
     "output_type": "execute_result"
    }
   ],
   "source": [
    "# Add the custom metric to grid search and set refit to select the best model based on this metric\n",
    "grid = GridSearchCV(\n",
    "    estimator=LogisticRegression(max_iter=1_000),\n",
    "    param_grid={\"class_weight\": [{0: 1, 1: v} for v in np.linspace(1, 20, 30)]},\n",
    "    scoring={\n",
    "        \"precision\": make_scorer(precision_score),\n",
    "        \"recall\": make_scorer(recall_score),\n",
    "        \"min_both\": make_scorer(min_recall_precision),  # Add new\n",
    "    },\n",
    "    refit=\"min_both\",\n",
    "    return_train_score=True,\n",
    "    cv=10,\n",
    "    n_jobs=-1,\n",
    ")\n",
    "\n",
    "grid.fit(X, y)\n"
   ]
  },
  {
   "cell_type": "markdown",
   "id": "f1e6a09f",
   "metadata": {},
   "source": [
    "After running the grid search with the `min_both` metric, we can update our chart to include this new score. The green line represents the minimum of precision and recall for each class weight setting.\n",
    "\n",
    "The grid search will now select the model where precision and recall are best balanced, according to our custom metric."
   ]
  },
  {
   "cell_type": "code",
   "execution_count": 22,
   "id": "c7d80861",
   "metadata": {},
   "outputs": [
    {
     "data": {
      "image/png": "[encoded data removed]",
      "text/plain": [
       "<Figure size 1200x400 with 1 Axes>"
      ]
     },
     "metadata": {},
     "output_type": "display_data"
    }
   ],
   "source": [
    "# Plot mean test recall, precision, and min_both scores for each class weight setting\n",
    "plt.figure(figsize=(12, 4))\n",
    "df = pd.DataFrame(grid.cv_results_)\n",
    "for score in [\"mean_test_recall\", \"mean_test_precision\", \"mean_test_min_both\"]:\n",
    "    plt.plot([_[1] for _ in df[\"param_class_weight\"]], df[score], label=score)\n",
    "plt.legend();\n"
   ]
  },
  {
   "cell_type": "markdown",
   "id": "c47fc234",
   "metadata": {},
   "source": [
    "Notice that the `min_both` (green) line is always at or below the precision and recall lines, since it takes the lower of the two for each setting. This helps ensure that neither metric is neglected when selecting the best model.\n",
    "\n",
    "Scikit-learn's metric API is flexible: you can use built-in metrics like accuracy, precision, recall, and F1, or define your own to suit your problem. When using custom metrics, you typically wrap them with `make_scorer` so they can be used in grid search and other model selection tools.\n",
    "\n",
    "Let's take a closer look at how `make_scorer` works and how it adapts your metric function for use in scikit-learn's API."
   ]
  },
  {
   "cell_type": "code",
   "execution_count": 23,
   "id": "ee97f256",
   "metadata": {},
   "outputs": [
    {
     "name": "stdout",
     "output_type": "stream",
     "text": [
      "\u001b[0;31mSignature:\u001b[0m      \u001b[0ms\u001b[0m\u001b[0;34m(\u001b[0m\u001b[0mestimator\u001b[0m\u001b[0;34m,\u001b[0m \u001b[0mX\u001b[0m\u001b[0;34m,\u001b[0m \u001b[0my_true\u001b[0m\u001b[0;34m,\u001b[0m \u001b[0msample_weight\u001b[0m\u001b[0;34m=\u001b[0m\u001b[0;32mNone\u001b[0m\u001b[0;34m)\u001b[0m\u001b[0;34m\u001b[0m\u001b[0;34m\u001b[0m\u001b[0m\n",
      "\u001b[0;31mType:\u001b[0m           _PredictScorer\n",
      "\u001b[0;31mString form:\u001b[0m    make_scorer(min_recall_precision)\n",
      "\u001b[0;31mFile:\u001b[0m           ~/dev/github-ryouze/scikit-learn-practice/env/lib/python3.8/site-packages/sklearn/metrics/_scorer.py\n",
      "\u001b[0;31mSource:\u001b[0m        \n",
      "\u001b[0;32mclass\u001b[0m \u001b[0m_PredictScorer\u001b[0m\u001b[0;34m(\u001b[0m\u001b[0m_BaseScorer\u001b[0m\u001b[0;34m)\u001b[0m\u001b[0;34m:\u001b[0m\u001b[0;34m\u001b[0m\n",
      "\u001b[0;34m\u001b[0m    \u001b[0;32mdef\u001b[0m \u001b[0m_score\u001b[0m\u001b[0;34m(\u001b[0m\u001b[0mself\u001b[0m\u001b[0;34m,\u001b[0m \u001b[0mmethod_caller\u001b[0m\u001b[0;34m,\u001b[0m \u001b[0mestimator\u001b[0m\u001b[0;34m,\u001b[0m \u001b[0mX\u001b[0m\u001b[0;34m,\u001b[0m \u001b[0my_true\u001b[0m\u001b[0;34m,\u001b[0m \u001b[0msample_weight\u001b[0m\u001b[0;34m=\u001b[0m\u001b[0;32mNone\u001b[0m\u001b[0;34m)\u001b[0m\u001b[0;34m:\u001b[0m\u001b[0;34m\u001b[0m\n",
      "\u001b[0;34m\u001b[0m        \u001b[0;34m\"\"\"Evaluate predicted target values for X relative to y_true.\u001b[0m\n",
      "\u001b[0;34m\u001b[0m\n",
      "\u001b[0;34m        Parameters\u001b[0m\n",
      "\u001b[0;34m        ----------\u001b[0m\n",
      "\u001b[0;34m        method_caller : callable\u001b[0m\n",
      "\u001b[0;34m            Returns predictions given an estimator, method name, and other\u001b[0m\n",
      "\u001b[0;34m            arguments, potentially caching results.\u001b[0m\n",
      "\u001b[0;34m\u001b[0m\n",
      "\u001b[0;34m        estimator : object\u001b[0m\n",
      "\u001b[0;34m            Trained estimator to use for scoring. Must have a predict_proba\u001b[0m\n",
      "\u001b[0;34m            method; the output of that is used to compute the score.\u001b[0m\n",
      "\u001b[0;34m\u001b[0m\n",
      "\u001b[0;34m        X : array-like or sparse matrix\u001b[0m\n",
      "\u001b[0;34m            Test data that will be fed to estimator.predict.\u001b[0m\n",
      "\u001b[0;34m\u001b[0m\n",
      "\u001b[0;34m        y_true : array-like\u001b[0m\n",
      "\u001b[0;34m            Gold standard target values for X.\u001b[0m\n",
      "\u001b[0;34m\u001b[0m\n",
      "\u001b[0;34m        sample_weight : array-like, optional (default=None)\u001b[0m\n",
      "\u001b[0;34m            Sample weights.\u001b[0m\n",
      "\u001b[0;34m\u001b[0m\n",
      "\u001b[0;34m        Returns\u001b[0m\n",
      "\u001b[0;34m        -------\u001b[0m\n",
      "\u001b[0;34m        score : float\u001b[0m\n",
      "\u001b[0;34m            Score function applied to prediction of estimator on X.\u001b[0m\n",
      "\u001b[0;34m        \"\"\"\u001b[0m\u001b[0;34m\u001b[0m\n",
      "\u001b[0;34m\u001b[0m\u001b[0;34m\u001b[0m\n",
      "\u001b[0;34m\u001b[0m        \u001b[0my_pred\u001b[0m \u001b[0;34m=\u001b[0m \u001b[0mmethod_caller\u001b[0m\u001b[0;34m(\u001b[0m\u001b[0mestimator\u001b[0m\u001b[0;34m,\u001b[0m \u001b[0;34m\"predict\"\u001b[0m\u001b[0;34m,\u001b[0m \u001b[0mX\u001b[0m\u001b[0;34m)\u001b[0m\u001b[0;34m\u001b[0m\n",
      "\u001b[0;34m\u001b[0m        \u001b[0;32mif\u001b[0m \u001b[0msample_weight\u001b[0m \u001b[0;32mis\u001b[0m \u001b[0;32mnot\u001b[0m \u001b[0;32mNone\u001b[0m\u001b[0;34m:\u001b[0m\u001b[0;34m\u001b[0m\n",
      "\u001b[0;34m\u001b[0m            \u001b[0;32mreturn\u001b[0m \u001b[0mself\u001b[0m\u001b[0;34m.\u001b[0m\u001b[0m_sign\u001b[0m \u001b[0;34m*\u001b[0m \u001b[0mself\u001b[0m\u001b[0;34m.\u001b[0m\u001b[0m_score_func\u001b[0m\u001b[0;34m(\u001b[0m\u001b[0my_true\u001b[0m\u001b[0;34m,\u001b[0m \u001b[0my_pred\u001b[0m\u001b[0;34m,\u001b[0m\u001b[0;34m\u001b[0m\n",
      "\u001b[0;34m\u001b[0m                                                 \u001b[0msample_weight\u001b[0m\u001b[0;34m=\u001b[0m\u001b[0msample_weight\u001b[0m\u001b[0;34m,\u001b[0m\u001b[0;34m\u001b[0m\n",
      "\u001b[0;34m\u001b[0m                                                 \u001b[0;34m**\u001b[0m\u001b[0mself\u001b[0m\u001b[0;34m.\u001b[0m\u001b[0m_kwargs\u001b[0m\u001b[0;34m)\u001b[0m\u001b[0;34m\u001b[0m\n",
      "\u001b[0;34m\u001b[0m        \u001b[0;32melse\u001b[0m\u001b[0;34m:\u001b[0m\u001b[0;34m\u001b[0m\n",
      "\u001b[0;34m\u001b[0m            \u001b[0;32mreturn\u001b[0m \u001b[0mself\u001b[0m\u001b[0;34m.\u001b[0m\u001b[0m_sign\u001b[0m \u001b[0;34m*\u001b[0m \u001b[0mself\u001b[0m\u001b[0;34m.\u001b[0m\u001b[0m_score_func\u001b[0m\u001b[0;34m(\u001b[0m\u001b[0my_true\u001b[0m\u001b[0;34m,\u001b[0m \u001b[0my_pred\u001b[0m\u001b[0;34m,\u001b[0m\u001b[0;34m\u001b[0m\n",
      "\u001b[0;34m\u001b[0m                                                 \u001b[0;34m**\u001b[0m\u001b[0mself\u001b[0m\u001b[0;34m.\u001b[0m\u001b[0m_kwargs\u001b[0m\u001b[0;34m)\u001b[0m\u001b[0;34m\u001b[0m\u001b[0;34m\u001b[0m\u001b[0m\n",
      "\u001b[0;31mCall docstring:\u001b[0m\n",
      "Evaluate predicted target values for X relative to y_true.\n",
      "\n",
      "Parameters\n",
      "----------\n",
      "estimator : object\n",
      "    Trained estimator to use for scoring. Must have a predict_proba\n",
      "    method; the output of that is used to compute the score.\n",
      "\n",
      "X : array-like or sparse matrix\n",
      "    Test data that will be fed to estimator.predict.\n",
      "\n",
      "y_true : array-like\n",
      "    Gold standard target values for X.\n",
      "\n",
      "sample_weight : array-like, optional (default=None)\n",
      "    Sample weights.\n",
      "\n",
      "Returns\n",
      "-------\n",
      "score : float\n",
      "    Score function applied to prediction of estimator on X."
     ]
    }
   ],
   "source": [
    "# Use make_scorer to turn the custom metric into a scorer object for grid search\n",
    "s = make_scorer(min_recall_precision)\n",
    "??s\n"
   ]
  },
  {
   "cell_type": "markdown",
   "id": "17d3d956",
   "metadata": {},
   "source": [
    "The `make_scorer` function takes a metric function (like our `min_recall_precision`) and turns it into a scorer object that scikit-learn can use in grid search and other model selection tools.\n",
    "\n",
    "This scorer object accepts an estimator, input data, true labels, and optional sample weights. It allows you to use your custom metric seamlessly within scikit-learn's workflow, without having to rewrite your function to match scikit-learn's expected signature.\n",
    "\n",
    "Let's demonstrate how to rewrite our custom metric to work directly with scikit-learn's API, without needing `make_scorer`."
   ]
  },
  {
   "cell_type": "code",
   "execution_count": null,
   "id": "4fb7f7ac",
   "metadata": {},
   "outputs": [],
   "source": [
    "# Rewrite the custom metric to accept an estimator, input data, true labels, and optional sample weights\n",
    "def min_recall_precision(est, X, y_true, sample_weight=None):\n",
    "    y_pred = est.predict(X)\n",
    "    recall = recall_score(y_true, y_pred)\n",
    "    precision = precision_score(y_true, y_pred)\n",
    "    return min(recall, precision)\n"
   ]
  },
  {
   "cell_type": "markdown",
   "id": "0b00a6a3",
   "metadata": {},
   "source": [
    "By updating our custom metric to accept an estimator, input data, true labels, and an optional sample weight, we can use it directly in grid search without `make_scorer`.\n",
    "\n",
    "The `sample_weight` parameter allows us to give different importance to individual samples, which can be useful in certain applications (e.g., weighting transactions by amount in fraud detection).\n",
    "Let's see how this works in practice."
   ]
  },
  {
   "cell_type": "code",
   "execution_count": 25,
   "id": "b88883df",
   "metadata": {},
   "outputs": [
    {
     "name": "stderr",
     "output_type": "stream",
     "text": [
      "/Users/hikari/dev/github-ryouze/scikit-learn-practice/env/lib/python3.8/site-packages/sklearn/metrics/_classification.py:1221: UndefinedMetricWarning: Precision is ill-defined and being set to 0.0 due to no predicted samples. Use `zero_division` parameter to control this behavior.\n",
      "  _warn_prf(average, modifier, msg_start, len(result))\n",
      "/Users/hikari/dev/github-ryouze/scikit-learn-practice/env/lib/python3.8/site-packages/sklearn/metrics/_classification.py:1221: UndefinedMetricWarning: Precision is ill-defined and being set to 0.0 due to no predicted samples. Use `zero_division` parameter to control this behavior.\n",
      "  _warn_prf(average, modifier, msg_start, len(result))\n"
     ]
    },
    {
     "data": {
      "text/plain": [
       "GridSearchCV(cv=10, estimator=LogisticRegression(max_iter=1000), n_jobs=-1,\n",
       "             param_grid={'class_weight': [{0: 1, 1: 1.0},\n",
       "                                          {0: 1, 1: 1.6551724137931034},\n",
       "                                          {0: 1, 1: 2.310344827586207},\n",
       "                                          {0: 1, 1: 2.9655172413793105},\n",
       "                                          {0: 1, 1: 3.6206896551724137},\n",
       "                                          {0: 1, 1: 4.275862068965517},\n",
       "                                          {0: 1, 1: 4.931034482758621},\n",
       "                                          {0: 1, 1: 5.586206896551724},\n",
       "                                          {0: 1, 1: 6.241379310344827},\n",
       "                                          {0: 1, 1: 6.896551724137931},...\n",
       "                                          {0: 1, 1: 16.06896551724138},\n",
       "                                          {0: 1, 1: 16.724137931034484},\n",
       "                                          {0: 1, 1: 17.379310344827587},\n",
       "                                          {0: 1, 1: 18.03448275862069},\n",
       "                                          {0: 1, 1: 18.689655172413794},\n",
       "                                          {0: 1, 1: 19.344827586206897},\n",
       "                                          {0: 1, 1: 20.0}]},\n",
       "             refit='min_both', return_train_score=True,\n",
       "             scoring={'min_both': <function min_recall_precision at 0x7f97985f2790>,\n",
       "                      'precision': make_scorer(precision_score),\n",
       "                      'recall': make_scorer(recall_score)})"
      ]
     },
     "execution_count": 25,
     "metadata": {},
     "output_type": "execute_result"
    }
   ],
   "source": [
    "# Use the custom metric directly in grid search without make_scorer\n",
    "grid = GridSearchCV(\n",
    "    estimator=LogisticRegression(max_iter=1000),\n",
    "    param_grid={\"class_weight\": [{0: 1, 1: v} for v in np.linspace(1, 20, 30)]},\n",
    "    scoring={\n",
    "        \"precision\": make_scorer(precision_score),\n",
    "        \"recall\": make_scorer(recall_score),\n",
    "        \"min_both\": min_recall_precision,\n",
    "    },\n",
    "    refit=\"min_both\",\n",
    "    return_train_score=True,\n",
    "    cv=10,\n",
    "    n_jobs=-1,\n",
    ")\n",
    "\n",
    "grid.fit(X, y)\n"
   ]
  },
  {
   "cell_type": "markdown",
   "id": "02c84c02",
   "metadata": {},
   "source": [
    "The `sample_weight` parameter lets you assign more importance to certain samples when evaluating metrics. For example, in fraud detection, you might want to give higher weight to transactions with larger amounts, since catching high-value fraud is especially important.\n",
    "\n",
    "You can pass sample weights to `grid.fit()` using the `sample_weight` argument. For numerical stability, it's common to use the logarithm of the amount rather than the raw value."
   ]
  },
  {
   "cell_type": "code",
   "execution_count": null,
   "id": "a6f70acf",
   "metadata": {},
   "outputs": [],
   "source": [
    "# # Fit the model using sample weights based on transaction amount\n",
    "# # grid.fit(X, y, sample_weight=df[\"Amount\"])\n",
    "\n",
    "# # Use log of amount to prevent overfitting on large transactions\n",
    "# grid.fit(X, y, sample_weight=np.log(1 + df[\"Amount\"]))\n"
   ]
  },
  {
   "cell_type": "markdown",
   "id": "813c91f1",
   "metadata": {},
   "source": [
    "Time: 1:16:41"
   ]
  }
 ],
 "metadata": {
  "kernelspec": {
   "display_name": "env",
   "language": "python",
   "name": "python3"
  },
  "language_info": {
   "codemirror_mode": {
    "name": "ipython",
    "version": 3
   },
   "file_extension": ".py",
   "mimetype": "text/x-python",
   "name": "python",
   "nbconvert_exporter": "python",
   "pygments_lexer": "ipython3",
   "version": "3.8.10"
  }
 },
 "nbformat": 4,
 "nbformat_minor": 5
}
