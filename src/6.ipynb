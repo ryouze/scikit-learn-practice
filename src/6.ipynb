{
 "cells": [
  {
   "cell_type": "markdown",
   "id": "59cfcbbf",
   "metadata": {},
   "source": [
    "# 6. Preprocessing Part 2: Handling Categorical Data\n",
    "\n",
    "Up to this point, we have focused on preprocessing numeric data. However, real-world datasets often contain categorical features, such as labels like \"low\", \"medium\", and \"high\" risk. To use these categorical variables in machine learning models, we need to convert them into a numeric format. This notebook demonstrates how to preprocess categorical data using encoding techniques."
   ]
  },
  {
   "cell_type": "code",
   "execution_count": 2,
   "id": "725b1486",
   "metadata": {},
   "outputs": [
    {
     "data": {
      "text/plain": [
       "array([['low'],\n",
       "       ['low'],\n",
       "       ['high'],\n",
       "       ['medium']], dtype='<U6')"
      ]
     },
     "execution_count": 2,
     "metadata": {},
     "output_type": "execute_result"
    }
   ],
   "source": [
    "import numpy as np\n",
    "\n",
    "arr = np.array([\"low\", \"low\", \"high\", \"medium\"]).reshape(-1, 1)\n",
    "arr\n"
   ]
  },
  {
   "cell_type": "markdown",
   "id": "0aed7576",
   "metadata": {},
   "source": [
    "A common technique for converting categorical data into a numeric format is one-hot encoding. The `OneHotEncoder` from scikit-learn transforms categorical values into a binary matrix, where each category is represented by a separate column. This allows machine learning algorithms to interpret categorical variables numerically."
   ]
  },
  {
   "cell_type": "code",
   "execution_count": 3,
   "id": "40ef766f",
   "metadata": {},
   "outputs": [],
   "source": [
    "from sklearn.preprocessing import OneHotEncoder\n"
   ]
  },
  {
   "cell_type": "markdown",
   "id": "5f03428d",
   "metadata": {},
   "source": [
    "By default, `OneHotEncoder` returns a sparse matrix, which is an efficient way to store large binary matrices with many zeros. If you want to view the full encoded array, you can set the `sparse` parameter to `False`."
   ]
  },
  {
   "cell_type": "code",
   "execution_count": 5,
   "id": "3f4235db",
   "metadata": {},
   "outputs": [
    {
     "data": {
      "text/plain": [
       "<4x3 sparse matrix of type '<class 'numpy.float64'>'\n",
       "\twith 4 stored elements in Compressed Sparse Row format>"
      ]
     },
     "execution_count": 5,
     "metadata": {},
     "output_type": "execute_result"
    }
   ],
   "source": [
    "enc = OneHotEncoder()\n",
    "enc.fit_transform(arr)\n"
   ]
  },
  {
   "cell_type": "markdown",
   "id": "bd89749f",
   "metadata": {},
   "source": [
    "To make the encoded output easier to inspect, set `sparse=False` when creating the encoder. This will return a regular NumPy array instead of a sparse matrix, allowing you to see the actual encoded values."
   ]
  },
  {
   "cell_type": "code",
   "execution_count": 6,
   "id": "2dffc0ac",
   "metadata": {},
   "outputs": [
    {
     "data": {
      "text/plain": [
       "array([[0., 1., 0.],\n",
       "       [0., 1., 0.],\n",
       "       [1., 0., 0.],\n",
       "       [0., 0., 1.]])"
      ]
     },
     "execution_count": 6,
     "metadata": {},
     "output_type": "execute_result"
    }
   ],
   "source": [
    "enc = OneHotEncoder(sparse=False)\n",
    "enc.fit_transform(arr)\n"
   ]
  },
  {
   "cell_type": "markdown",
   "id": "92a4da60",
   "metadata": {},
   "source": [
    "In the output, each row corresponds to a sample, and each column represents a category. For example, the first two rows are encoded as 'low', sharing the same column, while 'high' and 'medium' are each represented in their respective columns. This numeric representation is especially useful when the categorical variable is the target label (`y`) for a machine learning model, as scikit-learn requires numeric input.\n",
    "\n",
    "However, there are some important behaviors to consider. If you attempt to transform a category that was not present during fitting, the encoder will raise an error by default. This is relevant when encoding features for prediction, as new categories may appear in future data."
   ]
  },
  {
   "cell_type": "code",
   "execution_count": 7,
   "id": "461a1405",
   "metadata": {},
   "outputs": [
    {
     "ename": "ValueError",
     "evalue": "Found unknown categories ['zero'] in column 0 during transform",
     "output_type": "error",
     "traceback": [
      "\u001b[0;31m---------------------------------------------------------------------------\u001b[0m",
      "\u001b[0;31mValueError\u001b[0m                                Traceback (most recent call last)",
      "Cell \u001b[0;32mIn[7], line 1\u001b[0m\n\u001b[0;32m----> 1\u001b[0m \u001b[43menc\u001b[49m\u001b[38;5;241;43m.\u001b[39;49m\u001b[43mtransform\u001b[49m\u001b[43m(\u001b[49m\u001b[43m[\u001b[49m\u001b[43m[\u001b[49m\u001b[38;5;124;43m\"\u001b[39;49m\u001b[38;5;124;43mzero\u001b[39;49m\u001b[38;5;124;43m\"\u001b[39;49m\u001b[43m]\u001b[49m\u001b[43m]\u001b[49m\u001b[43m)\u001b[49m\n",
      "File \u001b[0;32m~/dev/github-ryouze/scikit-learn-practice/env/lib/python3.8/site-packages/sklearn/preprocessing/_encoders.py:428\u001b[0m, in \u001b[0;36mOneHotEncoder.transform\u001b[0;34m(self, X)\u001b[0m\n\u001b[1;32m    426\u001b[0m check_is_fitted(\u001b[38;5;28mself\u001b[39m)\n\u001b[1;32m    427\u001b[0m \u001b[38;5;66;03m# validation of X happens in _check_X called by _transform\u001b[39;00m\n\u001b[0;32m--> 428\u001b[0m X_int, X_mask \u001b[38;5;241m=\u001b[39m \u001b[38;5;28;43mself\u001b[39;49m\u001b[38;5;241;43m.\u001b[39;49m\u001b[43m_transform\u001b[49m\u001b[43m(\u001b[49m\u001b[43mX\u001b[49m\u001b[43m,\u001b[49m\u001b[43m \u001b[49m\u001b[43mhandle_unknown\u001b[49m\u001b[38;5;241;43m=\u001b[39;49m\u001b[38;5;28;43mself\u001b[39;49m\u001b[38;5;241;43m.\u001b[39;49m\u001b[43mhandle_unknown\u001b[49m\u001b[43m)\u001b[49m\n\u001b[1;32m    430\u001b[0m n_samples, n_features \u001b[38;5;241m=\u001b[39m X_int\u001b[38;5;241m.\u001b[39mshape\n\u001b[1;32m    432\u001b[0m \u001b[38;5;28;01mif\u001b[39;00m \u001b[38;5;28mself\u001b[39m\u001b[38;5;241m.\u001b[39mdrop_idx_ \u001b[38;5;129;01mis\u001b[39;00m \u001b[38;5;129;01mnot\u001b[39;00m \u001b[38;5;28;01mNone\u001b[39;00m:\n",
      "File \u001b[0;32m~/dev/github-ryouze/scikit-learn-practice/env/lib/python3.8/site-packages/sklearn/preprocessing/_encoders.py:124\u001b[0m, in \u001b[0;36m_BaseEncoder._transform\u001b[0;34m(self, X, handle_unknown)\u001b[0m\n\u001b[1;32m    121\u001b[0m \u001b[38;5;28;01mif\u001b[39;00m handle_unknown \u001b[38;5;241m==\u001b[39m \u001b[38;5;124m'\u001b[39m\u001b[38;5;124merror\u001b[39m\u001b[38;5;124m'\u001b[39m:\n\u001b[1;32m    122\u001b[0m     msg \u001b[38;5;241m=\u001b[39m (\u001b[38;5;124m\"\u001b[39m\u001b[38;5;124mFound unknown categories \u001b[39m\u001b[38;5;132;01m{0}\u001b[39;00m\u001b[38;5;124m in column \u001b[39m\u001b[38;5;132;01m{1}\u001b[39;00m\u001b[38;5;124m\"\u001b[39m\n\u001b[1;32m    123\u001b[0m            \u001b[38;5;124m\"\u001b[39m\u001b[38;5;124m during transform\u001b[39m\u001b[38;5;124m\"\u001b[39m\u001b[38;5;241m.\u001b[39mformat(diff, i))\n\u001b[0;32m--> 124\u001b[0m     \u001b[38;5;28;01mraise\u001b[39;00m \u001b[38;5;167;01mValueError\u001b[39;00m(msg)\n\u001b[1;32m    125\u001b[0m \u001b[38;5;28;01melse\u001b[39;00m:\n\u001b[1;32m    126\u001b[0m     \u001b[38;5;66;03m# Set the problematic rows to an acceptable value and\u001b[39;00m\n\u001b[1;32m    127\u001b[0m     \u001b[38;5;66;03m# continue `The rows are marked `X_mask` and will be\u001b[39;00m\n\u001b[1;32m    128\u001b[0m     \u001b[38;5;66;03m# removed later.\u001b[39;00m\n\u001b[1;32m    129\u001b[0m     X_mask[:, i] \u001b[38;5;241m=\u001b[39m valid_mask\n",
      "\u001b[0;31mValueError\u001b[0m: Found unknown categories ['zero'] in column 0 during transform"
     ]
    }
   ],
   "source": [
    "# enc.transform([[\"zero\"]])\n"
   ]
  },
  {
   "cell_type": "markdown",
   "id": "94c78cfb",
   "metadata": {},
   "source": [
    "If you try to transform a category that the encoder has not seen during fitting, a `ValueError` will be raised, indicating that an unknown category was found. This default behavior prevents accidental introduction of unseen categories during model training or prediction.\n",
    "\n",
    "To handle unknown categories gracefully, you can set the `handle_unknown` parameter to `'ignore'`. This will encode any unknown category as a row of zeros, indicating that it does not match any of the known categories."
   ]
  },
  {
   "cell_type": "code",
   "execution_count": 8,
   "id": "a64cd76f",
   "metadata": {},
   "outputs": [
    {
     "data": {
      "text/plain": [
       "array([[0., 0., 0.]])"
      ]
     },
     "execution_count": 8,
     "metadata": {},
     "output_type": "execute_result"
    }
   ],
   "source": [
    "enc = OneHotEncoder(sparse=False, handle_unknown=\"ignore\")\n",
    "enc.fit_transform(arr)\n",
    "\n",
    "enc.transform([[\"zero\"]])\n"
   ]
  },
  {
   "cell_type": "markdown",
   "id": "16af3206",
   "metadata": {},
   "source": [
    "When `handle_unknown=\"ignore\"` is set, transforming an unknown category returns a row of zeros, indicating that the value does not correspond to any known category. This setting is useful when encoding feature columns (`X`), where new categories may appear in future data. However, for target labels (`y`), it is generally best to avoid this setting to maintain strict control over the classes.\n",
    "\n",
    "To further explore preprocessing techniques, you can use the website [drawdata.xyz](https://drawdata.xyz) to create and download custom datasets. You can then load these datasets into your notebook using `pandas.read_clipboard(sep=\",\")` after copying the CSV data, making it easy to experiment with different preprocessing steps in scikit-learn."
   ]
  }
 ],
 "metadata": {
  "kernelspec": {
   "display_name": "env",
   "language": "python",
   "name": "python3"
  },
  "language_info": {
   "codemirror_mode": {
    "name": "ipython",
    "version": 3
   },
   "file_extension": ".py",
   "mimetype": "text/x-python",
   "name": "python",
   "nbconvert_exporter": "python",
   "pygments_lexer": "ipython3",
   "version": "3.8.10"
  }
 },
 "nbformat": 4,
 "nbformat_minor": 5
}
