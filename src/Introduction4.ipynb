{
 "cells": [
  {
   "cell_type": "markdown",
   "id": "39efb4d1",
   "metadata": {},
   "source": [
    "# Introduction 4: Exploratory Data Analysis (EDA)\n",
    "This notebook focuses on understanding your data before modeling. You will learn how to explore the structure, distribution, and relationships in the Boston housing dataset, highlighting the importance of EDA in any data science project."
   ]
  },
  {
   "cell_type": "code",
   "execution_count": 1,
   "id": "84a01fe7",
   "metadata": {},
   "outputs": [],
   "source": [
    "from sklearn.datasets import load_boston\n"
   ]
  },
  {
   "cell_type": "code",
   "execution_count": 2,
   "id": "b2a4d83a",
   "metadata": {},
   "outputs": [
    {
     "name": "stdout",
     "output_type": "stream",
     "text": [
      ".. _boston_dataset:\n",
      "\n",
      "Boston house prices dataset\n",
      "---------------------------\n",
      "\n",
      "**Data Set Characteristics:**  \n",
      "\n",
      "    :Number of Instances: 506 \n",
      "\n",
      "    :Number of Attributes: 13 numeric/categorical predictive. Median Value (attribute 14) is usually the target.\n",
      "\n",
      "    :Attribute Information (in order):\n",
      "        - CRIM     per capita crime rate by town\n",
      "        - ZN       proportion of residential land zoned for lots over 25,000 sq.ft.\n",
      "        - INDUS    proportion of non-retail business acres per town\n",
      "        - CHAS     Charles River dummy variable (= 1 if tract bounds river; 0 otherwise)\n",
      "        - NOX      nitric oxides concentration (parts per 10 million)\n",
      "        - RM       average number of rooms per dwelling\n",
      "        - AGE      proportion of owner-occupied units built prior to 1940\n",
      "        - DIS      weighted distances to five Boston employment centres\n",
      "        - RAD      index of accessibility to radial highways\n",
      "        - TAX      full-value property-tax rate per $10,000\n",
      "        - PTRATIO  pupil-teacher ratio by town\n",
      "        - B        1000(Bk - 0.63)^2 where Bk is the proportion of blacks by town\n",
      "        - LSTAT    % lower status of the population\n",
      "        - MEDV     Median value of owner-occupied homes in $1000's\n",
      "\n",
      "    :Missing Attribute Values: None\n",
      "\n",
      "    :Creator: Harrison, D. and Rubinfeld, D.L.\n",
      "\n",
      "This is a copy of UCI ML housing dataset.\n",
      "https://archive.ics.uci.edu/ml/machine-learning-databases/housing/\n",
      "\n",
      "\n",
      "This dataset was taken from the StatLib library which is maintained at Carnegie Mellon University.\n",
      "\n",
      "The Boston house-price data of Harrison, D. and Rubinfeld, D.L. 'Hedonic\n",
      "prices and the demand for clean air', J. Environ. Economics & Management,\n",
      "vol.5, 81-102, 1978.   Used in Belsley, Kuh & Welsch, 'Regression diagnostics\n",
      "...', Wiley, 1980.   N.B. Various transformations are used in the table on\n",
      "pages 244-261 of the latter.\n",
      "\n",
      "The Boston house-price data has been used in many machine learning papers that address regression\n",
      "problems.   \n",
      "     \n",
      ".. topic:: References\n",
      "\n",
      "   - Belsley, Kuh & Welsch, 'Regression diagnostics: Identifying Influential Data and Sources of Collinearity', Wiley, 1980. 244-261.\n",
      "   - Quinlan,R. (1993). Combining Instance-Based and Model-Based Learning. In Proceedings on the Tenth International Conference of Machine Learning, 236-243, University of Massachusetts, Amherst. Morgan Kaufmann.\n",
      "\n"
     ]
    }
   ],
   "source": [
    "# The Boston housing dataset is returned as a dictionary-like object:\n",
    "# print(load_boston())\n",
    "\n",
    "# To understand what features and metadata are included, print the dataset description:\n",
    "print(load_boston()[\"DESCR\"])\n"
   ]
  },
  {
   "cell_type": "markdown",
   "id": "c565dc19",
   "metadata": {},
   "source": [
    "Now that we've examined the dataset, we can ask important questions: Is 506 houses enough for a reliable model? What year is this data from, and is it still relevant?\n",
    "\n",
    "More importantly, some features in this dataset (like the `B` variable, which encodes the proportion of Black residents) are problematic and raise ethical concerns. Using such variables in a predictive model can perpetuate bias and lead to discriminatory outcomes.\n",
    "\n",
    "This highlights why it's essential to look closely at your data—not just for technical reasons, but for ethical ones as well. The Boston housing dataset has been widely used in teaching, but it's now deprecated in scikit-learn due to these issues.\n",
    "\n",
    "Beyond technical correctness, responsible data science means:\n",
    "- Understanding your dataset and its context.\n",
    "- Being skeptical of model performance, especially if results seem \"too good.\"\n",
    "- Considering the ethical and social impact of your models.\n",
    "\n",
    "Scikit-learn's API is powerful, but the most important part of data science is using it thoughtfully and responsibly."
   ]
  }
 ],
 "metadata": {
  "kernelspec": {
   "display_name": "env",
   "language": "python",
   "name": "python3"
  },
  "language_info": {
   "codemirror_mode": {
    "name": "ipython",
    "version": 3
   },
   "file_extension": ".py",
   "mimetype": "text/x-python",
   "name": "python",
   "nbconvert_exporter": "python",
   "pygments_lexer": "ipython3",
   "version": "3.8.10"
  }
 },
 "nbformat": 4,
 "nbformat_minor": 5
}
